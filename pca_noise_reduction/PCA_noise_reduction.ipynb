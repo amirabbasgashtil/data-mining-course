{
 "cells": [
  {
   "cell_type": "markdown",
   "id": "944601bf-966a-4e06-8ce2-6afd2251e6db",
   "metadata": {},
   "source": [
    "**noise reduction with PCA**"
   ]
  },
  {
   "cell_type": "markdown",
   "id": "ac700722-a614-487c-a858-e4ad1d7d011f",
   "metadata": {},
   "source": [
    "import libraries"
   ]
  },
  {
   "cell_type": "code",
   "execution_count": 62,
   "id": "d5acdefe-b428-45d9-8079-d17fcf2b21c8",
   "metadata": {
    "tags": []
   },
   "outputs": [],
   "source": [
    "import numpy as np\n",
    "import matplotlib.pyplot as plt\n",
    "import cv2\n",
    "from sklearn.decomposition import PCA \n",
    "import random\n",
    "from keras.datasets import mnist\n",
    "from sklearn.preprocessing import StandardScaler"
   ]
  },
  {
   "cell_type": "markdown",
   "id": "8df0bb40-6938-4859-bf2d-7730f2d26850",
   "metadata": {},
   "source": [
    "load mnist dataset"
   ]
  },
  {
   "cell_type": "code",
   "execution_count": 63,
   "id": "27fa73ec-d932-4483-988a-190997ce7b0e",
   "metadata": {},
   "outputs": [
    {
     "name": "stdout",
     "output_type": "stream",
     "text": [
      "x_train shape :  (60000, 28, 28) \n",
      " y_train shape :  (60000,) \n",
      " x_test shape :  (10000, 28, 28) \n",
      " y_test shape :  (10000,)\n"
     ]
    }
   ],
   "source": [
    "(x_train, y_train) , (x_test, y_test) = mnist.load_data()\n",
    "\n",
    "print(\"x_train shape : \", x_train.shape,\"\\n\",\n",
    "    \"y_train shape : \", y_train.shape, \"\\n\",\n",
    "    \"x_test shape : \", x_test.shape,\"\\n\",\n",
    "    \"y_test shape : \", y_test.shape)"
   ]
  },
  {
   "cell_type": "markdown",
   "id": "e13d92e3-6f1a-4a6b-b5a6-fc2de48ba6eb",
   "metadata": {},
   "source": [
    "now see a sample of dataset"
   ]
  },
  {
   "cell_type": "code",
   "execution_count": 64,
   "id": "a782df3c-3f02-4bfe-b95d-7a52ffebea59",
   "metadata": {
    "tags": []
   },
   "outputs": [
    {
     "name": "stdout",
     "output_type": "stream",
     "text": [
      "image shape :  (28, 28)\n"
     ]
    },
    {
     "data": {
      "image/png": "[encoded data removed]",
      "text/plain": [
       "<Figure size 640x480 with 1 Axes>"
      ]
     },
     "metadata": {},
     "output_type": "display_data"
    }
   ],
   "source": [
    "sample_index = random.randint(0,5999)\n",
    "sample_img = x_train[sample_index]\n",
    "print(\"image shape : \",sample_img.shape)\n",
    "sample_label = y_train[sample_index]\n",
    "\n",
    "# see the pic\n",
    "plt.imshow(sample_img, cmap='gray')\n",
    "plt.show()"
   ]
  },
  {
   "cell_type": "markdown",
   "id": "922021d5-688c-4522-adaa-30498a0d3f5c",
   "metadata": {},
   "source": [
    "adding gaussian noise to the dataset"
   ]
  },
  {
   "cell_type": "code",
   "execution_count": 65,
   "id": "4cad02eb-dbec-4833-ad2a-2e437b546639",
   "metadata": {
    "tags": []
   },
   "outputs": [],
   "source": [
    "gaussian_noise = np.zeros(x_train[0].shape, dtype=np.uint8)\n",
    "cv2.randn(gaussian_noise, 128, 20)\n",
    "gaussian_noise = (gaussian_noise * 0.5).astype(np.uint8)\n",
    "\n",
    "gn_images = []\n",
    "for i in range(60000):\n",
    "    gn_images.append(cv2.add(x_train[i], gaussian_noise))\n"
   ]
  },
  {
   "cell_type": "markdown",
   "id": "8b43076d-cf39-4f35-a0f0-24be12f9c13a",
   "metadata": {},
   "source": [
    "now see the noisy picture"
   ]
  },
  {
   "cell_type": "code",
   "execution_count": 66,
   "id": "9fc71219-9c0b-45d9-b7b2-7777bd2b0e41",
   "metadata": {
    "tags": []
   },
   "outputs": [
    {
     "data": {
      "image/png": "[encoded data removed]",
      "text/plain": [
       "<Figure size 640x480 with 1 Axes>"
      ]
     },
     "metadata": {},
     "output_type": "display_data"
    }
   ],
   "source": [
    "plt.imshow(gn_images[sample_index], cmap=\"gray\")\n",
    "plt.show()\n"
   ]
  },
  {
   "cell_type": "markdown",
   "id": "7ecec5a6-6a34-4710-9415-0d01a5bc69df",
   "metadata": {},
   "source": [
    "convert images to matrices"
   ]
  },
  {
   "cell_type": "code",
   "execution_count": 67,
   "id": "35e24e0f-71ea-498f-ab07-cf8228677ab8",
   "metadata": {
    "tags": []
   },
   "outputs": [
    {
     "name": "stdout",
     "output_type": "stream",
     "text": [
      "shape of the data : (60000, 28, 28)\n",
      "sample image converted to this matrix: \n",
      "(28, 28)\n"
     ]
    }
   ],
   "source": [
    "npdata = np.asarray(gn_images)\n",
    "print(f\"shape of the data : {npdata.shape}\")\n",
    "print(f\"sample image converted to this matrix: \\n{npdata[sample_index].shape}\")"
   ]
  },
  {
   "cell_type": "markdown",
   "id": "42adfd11-96ba-4314-9298-ce831824bffd",
   "metadata": {},
   "source": [
    "now we have to reshape our data so we can apply pca"
   ]
  },
  {
   "cell_type": "code",
   "execution_count": 68,
   "id": "46166946-6572-4dec-bf6c-3d9a6e137632",
   "metadata": {
    "tags": []
   },
   "outputs": [
    {
     "name": "stdout",
     "output_type": "stream",
     "text": [
      "correct shape : (60000, 784) and the sample : (784,)\n"
     ]
    }
   ],
   "source": [
    "reshaped_npdata = npdata.reshape(60000, 28*28)\n",
    "print(f\"correct shape : {reshaped_npdata.shape} and the sample : {reshaped_npdata[sample_index].shape}\")"
   ]
  },
  {
   "cell_type": "code",
   "execution_count": 69,
   "id": "8a7c21fd-5925-4d39-b49c-c6c535dde173",
   "metadata": {
    "tags": []
   },
   "outputs": [
    {
     "name": "stdout",
     "output_type": "stream",
     "text": [
      "correct shape : (60000, 784) and the sample : \n",
      "(784,)\n"
     ]
    }
   ],
   "source": [
    "scaler = StandardScaler()\n",
    "scaled_data = scaler.fit_transform(reshaped_npdata)\n",
    "print(f\"correct shape : {standardized_data.shape} and the sample : {standardized_data[sample_index].shape}\")"
   ]
  },
  {
   "cell_type": "code",
   "execution_count": 85,
   "id": "226bee57-09e2-435f-b399-515e184099ff",
   "metadata": {
    "tags": []
   },
   "outputs": [
    {
     "data": {
      "text/plain": [
       "(60000, 355)"
      ]
     },
     "execution_count": 85,
     "metadata": {},
     "output_type": "execute_result"
    }
   ],
   "source": [
    "pca = PCA()\n",
    "pca = PCA(n_components=0.95) # principal component to 95% of variance\n",
    "pca_data = pca.fit_transform(standardized_data)\n",
    "pca_data.shape"
   ]
  },
  {
   "cell_type": "code",
   "execution_count": 86,
   "id": "58b0f607-bc25-4f24-a8d9-acff4a346997",
   "metadata": {
    "tags": []
   },
   "outputs": [
    {
     "data": {
      "text/plain": [
       "(60000, 28, 28)"
      ]
     },
     "execution_count": 86,
     "metadata": {},
     "output_type": "execute_result"
    }
   ],
   "source": [
    "reconstructed_data = pca.inverse_transform(pca_data)\n",
    "reconstructed_data = scaler.inverse_transform(reconstructed_data)\n",
    "reconstructed_images = reconstructed_data.reshape(60000, 28, 28)\n",
    "reconstructed_images.shape"
   ]
  },
  {
   "cell_type": "code",
   "execution_count": 87,
   "id": "34e8927a-d740-4179-904c-95be9b835d80",
   "metadata": {
    "tags": []
   },
   "outputs": [
    {
     "data": {
      "image/png": "[encoded data removed]",
      "text/plain": [
       "<Figure size 640x480 with 1 Axes>"
      ]
     },
     "metadata": {},
     "output_type": "display_data"
    }
   ],
   "source": [
    "plt.imshow(reconstructed_images[sample_index], cmap=\"gray\")\n",
    "plt.show()"
   ]
  }
 ],
 "metadata": {
  "kernelspec": {
   "display_name": "Python 3 (ipykernel)",
   "language": "python",
   "name": "python3"
  },
  "language_info": {
   "codemirror_mode": {
    "name": "ipython",
    "version": 3
   },
   "file_extension": ".py",
   "mimetype": "text/x-python",
   "name": "python",
   "nbconvert_exporter": "python",
   "pygments_lexer": "ipython3",
   "version": "3.11.5"
  },
  "toc-autonumbering": false,
  "toc-showcode": true,
  "toc-showmarkdowntxt": true
 },
 "nbformat": 4,
 "nbformat_minor": 5
}
